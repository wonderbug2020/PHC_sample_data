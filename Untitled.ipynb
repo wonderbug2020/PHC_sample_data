{
 "cells": [
  {
   "cell_type": "code",
   "execution_count": 1,
   "id": "db89c682",
   "metadata": {},
   "outputs": [],
   "source": [
    "import pandas as pd"
   ]
  },
  {
   "cell_type": "code",
   "execution_count": 4,
   "id": "fb1f1f03",
   "metadata": {},
   "outputs": [],
   "source": [
    "df = pd.read_excel('data/Preference_Policy_Homeowners.xlsx')"
   ]
  },
  {
   "cell_type": "code",
   "execution_count": 25,
   "id": "939c2679",
   "metadata": {},
   "outputs": [
    {
     "name": "stdout",
     "output_type": "stream",
     "text": [
      "There are 76 rows and 29 columns in this dataset\n"
     ]
    }
   ],
   "source": [
    "print(f'There are {df.shape[0]} rows and {df.shape[1]} columns in this dataset')"
   ]
  },
  {
   "cell_type": "code",
   "execution_count": 26,
   "id": "b73dab8a",
   "metadata": {},
   "outputs": [
    {
     "data": {
      "text/plain": [
       "Index(['Housing Client Race', 'Ethnicity', 'County of Purchase',\n",
       "       'Household MFI Level', 'First Mortgage Amount', '1st Mortgage Lender',\n",
       "       'Interest rate', ' 2nd Mortgage', ' 2nd Mortgage Source',\n",
       "       'Down Payment Assistance Loan Amount', 'Down Payment Source(s)',\n",
       "       'First Grant Amount', 'First Grant Source', 'Additional Grant Amounts',\n",
       "       'Subsequent Grant Source(s)', 'Customer Out of Pocket Costs',\n",
       "       'Housing Counseling Client Profile.Hud Client New City',\n",
       "       'Housing Counseling Client Profile.Hud Client New State',\n",
       "       'Housing Counseling Client Profile.Hud Client New Zipcode',\n",
       "       'House Purchase Price', 'Housing Client Profile.Profile Return Date',\n",
       "       'Housing Counseling Client Profile.Settlement Date',\n",
       "       'Census Tract (Purchase)', 'Role',\n",
       "       'Preference Policy Referrals.Program Committed to',\n",
       "       'Client Head Of Household Type', 'Total House Payment ',\n",
       "       'HUD Client Income Level',\n",
       "       'Annual Gross Income (use most recent tax figures)'],\n",
       "      dtype='object')"
      ]
     },
     "execution_count": 26,
     "metadata": {},
     "output_type": "execute_result"
    }
   ],
   "source": [
    "df.columns"
   ]
  },
  {
   "cell_type": "code",
   "execution_count": 30,
   "id": "ced66e9d",
   "metadata": {},
   "outputs": [
    {
     "data": {
      "text/plain": [
       "<AxesSubplot:>"
      ]
     },
     "execution_count": 30,
     "metadata": {},
     "output_type": "execute_result"
    },
    {
     "data": {
      "image/png": "[encoded data removed]",
      "text/plain": [
       "<Figure size 432x288 with 1 Axes>"
      ]
     },
     "metadata": {
      "needs_background": "light"
     },
     "output_type": "display_data"
    }
   ],
   "source": [
    "df['First Mortgage Amount'].hist(bins=25)"
   ]
  },
  {
   "cell_type": "code",
   "execution_count": null,
   "id": "cdc7d29a",
   "metadata": {},
   "outputs": [],
   "source": [
    "#Outline\n",
    "#Who is Portland houseing center\n",
    "    #-put their about me in my words here\n",
    "    #Show a pie chart of the breakdown of client race\n",
    "#Using the consumer finance as a reference for the national average first-time buyers, compare key metrics\n",
    "    #Combined loan-to-value (how much down payment was put down)\n",
    "        #If lower, talk about the down payment assistance\n",
    "    #Debt to income ratio\n",
    "    "
   ]
  },
  {
   "cell_type": "code",
   "execution_count": 34,
   "id": "a6776431",
   "metadata": {},
   "outputs": [],
   "source": [
    "df['CLTV'] = (df['First Mortgage Amount']+df[' 2nd Mortgage'])/df['House Purchase Price']\n",
    "df['CLTV_2'] = df['First Mortgage Amount']/df['House Purchase Price']"
   ]
  },
  {
   "cell_type": "code",
   "execution_count": 32,
   "id": "c2af8cfd",
   "metadata": {},
   "outputs": [
    {
     "data": {
      "text/plain": [
       "0.9468736523989659"
      ]
     },
     "execution_count": 32,
     "metadata": {},
     "output_type": "execute_result"
    }
   ],
   "source": [
    "df['CLTV'].mean()"
   ]
  },
  {
   "cell_type": "code",
   "execution_count": 35,
   "id": "eed90f31",
   "metadata": {},
   "outputs": [
    {
     "data": {
      "text/plain": [
       "0.7595694792393045"
      ]
     },
     "execution_count": 35,
     "metadata": {},
     "output_type": "execute_result"
    }
   ],
   "source": [
    "df['CLTV_2'].mean()"
   ]
  },
  {
   "cell_type": "code",
   "execution_count": 37,
   "id": "94064c8a",
   "metadata": {},
   "outputs": [
    {
     "name": "stdout",
     "output_type": "stream",
     "text": [
      "<class 'pandas.core.frame.DataFrame'>\n",
      "RangeIndex: 76 entries, 0 to 75\n",
      "Data columns (total 31 columns):\n",
      " #   Column                                                    Non-Null Count  Dtype  \n",
      "---  ------                                                    --------------  -----  \n",
      " 0   Housing Client Race                                       75 non-null     object \n",
      " 1   Ethnicity                                                 75 non-null     object \n",
      " 2   County of Purchase                                        76 non-null     object \n",
      " 3   Household MFI Level                                       70 non-null     object \n",
      " 4   First Mortgage Amount                                     76 non-null     int64  \n",
      " 5   1st Mortgage Lender                                       76 non-null     object \n",
      " 6   Interest rate                                             76 non-null     float64\n",
      " 7    2nd Mortgage                                             3 non-null      float64\n",
      " 8    2nd Mortgage Source                                      3 non-null      object \n",
      " 9   Down Payment Assistance Loan Amount                       59 non-null     object \n",
      " 10  Down Payment Source(s)                                    59 non-null     object \n",
      " 11  First Grant Amount                                        42 non-null     float64\n",
      " 12  First Grant Source                                        42 non-null     object \n",
      " 13  Additional Grant Amounts                                  17 non-null     float64\n",
      " 14  Subsequent Grant Source(s)                                17 non-null     object \n",
      " 15  Customer Out of Pocket Costs                              73 non-null     float64\n",
      " 16  Housing Counseling Client Profile.Hud Client New City     76 non-null     object \n",
      " 17  Housing Counseling Client Profile.Hud Client New State    76 non-null     object \n",
      " 18  Housing Counseling Client Profile.Hud Client New Zipcode  76 non-null     int64  \n",
      " 19  House Purchase Price                                      76 non-null     int64  \n",
      " 20  Housing Client Profile.Profile Return Date                75 non-null     float64\n",
      " 21  Housing Counseling Client Profile.Settlement Date         76 non-null     int64  \n",
      " 22  Census Tract (Purchase)                                   76 non-null     float64\n",
      " 23  Role                                                      76 non-null     object \n",
      " 24  Preference Policy Referrals.Program Committed to          76 non-null     object \n",
      " 25  Client Head Of Household Type                             75 non-null     object \n",
      " 26  Total House Payment                                       76 non-null     float64\n",
      " 27  HUD Client Income Level                                   75 non-null     object \n",
      " 28  Annual Gross Income (use most recent tax figures)         75 non-null     float64\n",
      " 29  CLTV                                                      3 non-null      float64\n",
      " 30  CLTV_2                                                    76 non-null     float64\n",
      "dtypes: float64(11), int64(4), object(16)\n",
      "memory usage: 18.5+ KB\n"
     ]
    }
   ],
   "source": [
    "df.info()"
   ]
  },
  {
   "cell_type": "code",
   "execution_count": 39,
   "id": "8febbbe3",
   "metadata": {},
   "outputs": [],
   "source": [
    "df_2 = df[~df[' 2nd Mortgage'].isnull()]"
   ]
  },
  {
   "cell_type": "code",
   "execution_count": 40,
   "id": "87f32919",
   "metadata": {},
   "outputs": [
    {
     "data": {
      "text/html": [
       "<div>\n",
       "<style scoped>\n",
       "    .dataframe tbody tr th:only-of-type {\n",
       "        vertical-align: middle;\n",
       "    }\n",
       "\n",
       "    .dataframe tbody tr th {\n",
       "        vertical-align: top;\n",
       "    }\n",
       "\n",
       "    .dataframe thead th {\n",
       "        text-align: right;\n",
       "    }\n",
       "</style>\n",
       "<table border=\"1\" class=\"dataframe\">\n",
       "  <thead>\n",
       "    <tr style=\"text-align: right;\">\n",
       "      <th></th>\n",
       "      <th>Housing Client Race</th>\n",
       "      <th>Ethnicity</th>\n",
       "      <th>County of Purchase</th>\n",
       "      <th>Household MFI Level</th>\n",
       "      <th>First Mortgage Amount</th>\n",
       "      <th>1st Mortgage Lender</th>\n",
       "      <th>Interest rate</th>\n",
       "      <th>2nd Mortgage</th>\n",
       "      <th>2nd Mortgage Source</th>\n",
       "      <th>Down Payment Assistance Loan Amount</th>\n",
       "      <th>...</th>\n",
       "      <th>Housing Counseling Client Profile.Settlement Date</th>\n",
       "      <th>Census Tract (Purchase)</th>\n",
       "      <th>Role</th>\n",
       "      <th>Preference Policy Referrals.Program Committed to</th>\n",
       "      <th>Client Head Of Household Type</th>\n",
       "      <th>Total House Payment</th>\n",
       "      <th>HUD Client Income Level</th>\n",
       "      <th>Annual Gross Income (use most recent tax figures)</th>\n",
       "      <th>CLTV</th>\n",
       "      <th>CLTV_2</th>\n",
       "    </tr>\n",
       "  </thead>\n",
       "  <tbody>\n",
       "    <tr>\n",
       "      <th>2</th>\n",
       "      <td>Black or African American</td>\n",
       "      <td>Not Hispanic</td>\n",
       "      <td>Multnomah</td>\n",
       "      <td>NaN</td>\n",
       "      <td>84850</td>\n",
       "      <td>First Republican Bank</td>\n",
       "      <td>2.500</td>\n",
       "      <td>98105.0</td>\n",
       "      <td>Habitat for Humanity</td>\n",
       "      <td>NaN</td>\n",
       "      <td>...</td>\n",
       "      <td>44455</td>\n",
       "      <td>4.105100e+08</td>\n",
       "      <td>Preference Client - Rd 1, Preference Client - ...</td>\n",
       "      <td>Habitat</td>\n",
       "      <td>Single Adult</td>\n",
       "      <td>584.59</td>\n",
       "      <td>50 - 79% of AMI</td>\n",
       "      <td>38496.0</td>\n",
       "      <td>0.914775</td>\n",
       "      <td>0.42425</td>\n",
       "    </tr>\n",
       "    <tr>\n",
       "      <th>25</th>\n",
       "      <td>American Indian or Alaska Native and White</td>\n",
       "      <td>Not Hispanic</td>\n",
       "      <td>Multnomah</td>\n",
       "      <td>50 - 79% of AMI</td>\n",
       "      <td>167200</td>\n",
       "      <td>HomeStreet Bank</td>\n",
       "      <td>2.625</td>\n",
       "      <td>26000.0</td>\n",
       "      <td>MAP Loan</td>\n",
       "      <td>20000</td>\n",
       "      <td>...</td>\n",
       "      <td>43866</td>\n",
       "      <td>4.105101e+08</td>\n",
       "      <td>Preference Client - Rd 2</td>\n",
       "      <td>Purchasing without Preference Resources</td>\n",
       "      <td>Single Adult</td>\n",
       "      <td>1216.16</td>\n",
       "      <td>80 - 100% of AMI</td>\n",
       "      <td>49560.0</td>\n",
       "      <td>0.924402</td>\n",
       "      <td>0.80000</td>\n",
       "    </tr>\n",
       "    <tr>\n",
       "      <th>67</th>\n",
       "      <td>Black or African American</td>\n",
       "      <td>Not Hispanic</td>\n",
       "      <td>Multnomah</td>\n",
       "      <td>80 - 100% of AMI</td>\n",
       "      <td>221600</td>\n",
       "      <td>HomeStreet</td>\n",
       "      <td>2.500</td>\n",
       "      <td>55800.0</td>\n",
       "      <td>PHC MAP</td>\n",
       "      <td>NaN</td>\n",
       "      <td>...</td>\n",
       "      <td>44096</td>\n",
       "      <td>4.105100e+08</td>\n",
       "      <td>Preference Client - Rd 2</td>\n",
       "      <td>Purchasing without Preference Resources</td>\n",
       "      <td>Married without dependents</td>\n",
       "      <td>1773.31</td>\n",
       "      <td>80 - 100% of AMI</td>\n",
       "      <td>53688.0</td>\n",
       "      <td>1.001444</td>\n",
       "      <td>0.80000</td>\n",
       "    </tr>\n",
       "  </tbody>\n",
       "</table>\n",
       "<p>3 rows × 31 columns</p>\n",
       "</div>"
      ],
      "text/plain": [
       "                           Housing Client Race     Ethnicity  \\\n",
       "2                    Black or African American  Not Hispanic   \n",
       "25  American Indian or Alaska Native and White  Not Hispanic   \n",
       "67                   Black or African American  Not Hispanic   \n",
       "\n",
       "   County of Purchase Household MFI Level  First Mortgage Amount  \\\n",
       "2           Multnomah                 NaN                  84850   \n",
       "25          Multnomah     50 - 79% of AMI                 167200   \n",
       "67          Multnomah    80 - 100% of AMI                 221600   \n",
       "\n",
       "      1st Mortgage Lender  Interest rate   2nd Mortgage   2nd Mortgage Source  \\\n",
       "2   First Republican Bank          2.500        98105.0  Habitat for Humanity   \n",
       "25        HomeStreet Bank          2.625        26000.0              MAP Loan   \n",
       "67             HomeStreet          2.500        55800.0               PHC MAP   \n",
       "\n",
       "   Down Payment Assistance Loan Amount  ...  \\\n",
       "2                                  NaN  ...   \n",
       "25                               20000  ...   \n",
       "67                                 NaN  ...   \n",
       "\n",
       "   Housing Counseling Client Profile.Settlement Date  Census Tract (Purchase)  \\\n",
       "2                                              44455             4.105100e+08   \n",
       "25                                             43866             4.105101e+08   \n",
       "67                                             44096             4.105100e+08   \n",
       "\n",
       "                                                 Role  \\\n",
       "2   Preference Client - Rd 1, Preference Client - ...   \n",
       "25                           Preference Client - Rd 2   \n",
       "67                           Preference Client - Rd 2   \n",
       "\n",
       "    Preference Policy Referrals.Program Committed to  \\\n",
       "2                                            Habitat   \n",
       "25           Purchasing without Preference Resources   \n",
       "67           Purchasing without Preference Resources   \n",
       "\n",
       "   Client Head Of Household Type  Total House Payment   \\\n",
       "2                   Single Adult                584.59   \n",
       "25                  Single Adult               1216.16   \n",
       "67    Married without dependents               1773.31   \n",
       "\n",
       "   HUD Client Income Level Annual Gross Income (use most recent tax figures)  \\\n",
       "2          50 - 79% of AMI                                           38496.0   \n",
       "25        80 - 100% of AMI                                           49560.0   \n",
       "67        80 - 100% of AMI                                           53688.0   \n",
       "\n",
       "        CLTV   CLTV_2  \n",
       "2   0.914775  0.42425  \n",
       "25  0.924402  0.80000  \n",
       "67  1.001444  0.80000  \n",
       "\n",
       "[3 rows x 31 columns]"
      ]
     },
     "execution_count": 40,
     "metadata": {},
     "output_type": "execute_result"
    }
   ],
   "source": [
    "df_2"
   ]
  },
  {
   "cell_type": "code",
   "execution_count": 44,
   "id": "17ed1868",
   "metadata": {},
   "outputs": [
    {
     "data": {
      "text/plain": [
       "20000.00, 90000.00    13\n",
       "90000                 10\n",
       "100000                 9\n",
       "20000                  4\n",
       "80000                  2\n",
       "20000.00, 86303.00     1\n",
       "20000.00, 92960.45     1\n",
       "20793.34               1\n",
       "89249                  1\n",
       "22500.00, 90000.00     1\n",
       "16486.51, 20000.00     1\n",
       "71222                  1\n",
       "20000.00, 93960.45     1\n",
       "94258                  1\n",
       "25000                  1\n",
       "20000.00, 62873.18     1\n",
       "20000.00, 80000.00     1\n",
       "20000.00, 85000.00     1\n",
       "42909.23               1\n",
       "5000.00, 90000.00      1\n",
       "7855.00, 90000.00      1\n",
       "20000.00, 81258.00     1\n",
       "20000.00, 89308.00     1\n",
       "76208                  1\n",
       "15000                  1\n",
       "20000.00, 49424.00     1\n",
       "Name: Down Payment Assistance Loan Amount, dtype: int64"
      ]
     },
     "execution_count": 44,
     "metadata": {},
     "output_type": "execute_result"
    }
   ],
   "source": [
    "df['Down Payment Assistance Loan Amount'].value_counts()"
   ]
  },
  {
   "cell_type": "code",
   "execution_count": null,
   "id": "efba7e36",
   "metadata": {},
   "outputs": [],
   "source": []
  }
 ],
 "metadata": {
  "kernelspec": {
   "display_name": "Python 3 (ipykernel)",
   "language": "python",
   "name": "python3"
  },
  "language_info": {
   "codemirror_mode": {
    "name": "ipython",
    "version": 3
   },
   "file_extension": ".py",
   "mimetype": "text/x-python",
   "name": "python",
   "nbconvert_exporter": "python",
   "pygments_lexer": "ipython3",
   "version": "3.9.5"
  }
 },
 "nbformat": 4,
 "nbformat_minor": 5
}
