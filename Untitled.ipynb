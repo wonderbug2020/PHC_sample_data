{
 "cells": [
  {
   "cell_type": "code",
   "execution_count": 1,
   "id": "1acac4a1",
   "metadata": {},
   "outputs": [],
   "source": [
    "import pandas as pd"
   ]
  },
  {
   "cell_type": "code",
   "execution_count": 4,
   "id": "bbfc9de4",
   "metadata": {},
   "outputs": [],
   "source": [
    "df = pd.read_excel('data/Preference_Policy_Homeowners.xlsx')"
   ]
  },
  {
   "cell_type": "code",
   "execution_count": 25,
   "id": "68ab28f0",
   "metadata": {},
   "outputs": [
    {
     "name": "stdout",
     "output_type": "stream",
     "text": [
      "There are 76 rows and 29 columns in this dataset\n"
     ]
    }
   ],
   "source": [
    "print(f'There are {df.shape[0]} rows and {df.shape[1]} columns in this dataset')"
   ]
  },
  {
   "cell_type": "code",
   "execution_count": 26,
   "id": "96069c54",
   "metadata": {},
   "outputs": [
    {
     "data": {
      "text/plain": [
       "Index(['Housing Client Race', 'Ethnicity', 'County of Purchase',\n",
       "       'Household MFI Level', 'First Mortgage Amount', '1st Mortgage Lender',\n",
       "       'Interest rate', ' 2nd Mortgage', ' 2nd Mortgage Source',\n",
       "       'Down Payment Assistance Loan Amount', 'Down Payment Source(s)',\n",
       "       'First Grant Amount', 'First Grant Source', 'Additional Grant Amounts',\n",
       "       'Subsequent Grant Source(s)', 'Customer Out of Pocket Costs',\n",
       "       'Housing Counseling Client Profile.Hud Client New City',\n",
       "       'Housing Counseling Client Profile.Hud Client New State',\n",
       "       'Housing Counseling Client Profile.Hud Client New Zipcode',\n",
       "       'House Purchase Price', 'Housing Client Profile.Profile Return Date',\n",
       "       'Housing Counseling Client Profile.Settlement Date',\n",
       "       'Census Tract (Purchase)', 'Role',\n",
       "       'Preference Policy Referrals.Program Committed to',\n",
       "       'Client Head Of Household Type', 'Total House Payment ',\n",
       "       'HUD Client Income Level',\n",
       "       'Annual Gross Income (use most recent tax figures)'],\n",
       "      dtype='object')"
      ]
     },
     "execution_count": 26,
     "metadata": {},
     "output_type": "execute_result"
    }
   ],
   "source": [
    "df.columns"
   ]
  },
  {
   "cell_type": "code",
   "execution_count": 30,
   "id": "efafc5af",
   "metadata": {},
   "outputs": [
    {
     "data": {
      "text/plain": [
       "<AxesSubplot:>"
      ]
     },
     "execution_count": 30,
     "metadata": {},
     "output_type": "execute_result"
    },
    {
     "data": {
      "image/png": "[encoded data removed]",
      "text/plain": [
       "<Figure size 432x288 with 1 Axes>"
      ]
     },
     "metadata": {
      "needs_background": "light"
     },
     "output_type": "display_data"
    }
   ],
   "source": [
    "df['First Mortgage Amount'].hist(bins=25)"
   ]
  },
  {
   "cell_type": "code",
   "execution_count": null,
   "id": "3362b0f0",
   "metadata": {},
   "outputs": [],
   "source": [
    "#Outline\n",
    "#Who is Portland houseing center\n",
    "    #-put their about me in my words here\n",
    "    #Show a pie chart of the breakdown of client race\n",
    "#Using the consumer finance as a reference for the national average first-time buyers, compare key metrics\n",
    "    #Combined loan-to-value (how much down payment was put down)\n",
    "        #If lower, talk about the down payment assistance\n",
    "    #Debt to income ratio\n",
    "    "
   ]
  }
 ],
 "metadata": {
  "kernelspec": {
   "display_name": "Python 3 (ipykernel)",
   "language": "python",
   "name": "python3"
  },
  "language_info": {
   "codemirror_mode": {
    "name": "ipython",
    "version": 3
   },
   "file_extension": ".py",
   "mimetype": "text/x-python",
   "name": "python",
   "nbconvert_exporter": "python",
   "pygments_lexer": "ipython3",
   "version": "3.9.5"
  }
 },
 "nbformat": 4,
 "nbformat_minor": 5
}
